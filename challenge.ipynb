{
 "cells": [
  {
   "cell_type": "markdown",
   "source": [
    "# Importing Libraries"
   ],
   "metadata": {
    "collapsed": false
   }
  },
  {
   "cell_type": "code",
   "execution_count": 5,
   "outputs": [],
   "source": [
    "import numpy as np\n",
    "import matplotlib.pyplot as plt\n",
    "import pandas as pd\n",
    "# For Data Preprocessing\n",
    "from sklearn.preprocessing import OrdinalEncoder\n",
    "from sklearn.preprocessing import StandardScaler\n",
    "# For Visualization\n",
    "import seaborn as sb\n",
    "# For Oversampling\n",
    "from imblearn.over_sampling import SMOTE\n",
    "\n",
    "# For Modeling\n",
    "from sklearn.model_selection import train_test_split\n",
    "from sklearn.ensemble import RandomForestClassifier\n",
    "\n",
    "# For Checking Accuracy\n",
    "from sklearn.metrics import accuracy_score\n",
    "\n"
   ],
   "metadata": {
    "collapsed": false
   }
  },
  {
   "cell_type": "markdown",
   "source": [
    "# Training data analysis and pre-processing"
   ],
   "metadata": {
    "collapsed": false
   }
  },
  {
   "cell_type": "code",
   "execution_count": 35,
   "outputs": [
    {
     "data": {
      "text/plain": "  Unnamed: 0       y       x1       x2       x3        x4       x5       x6  \\\n0          0    Jorg -0.21695  0.88123 -4.95144  -2.37890  2.18407  0.84635   \n1          1  Atsuto -1.74145  0.02792  1.18805  -2.13850  1.94884  0.18559   \n2          2     Bob  0.82878 -0.29430  3.98977  -2.15388  2.09048 -0.26580   \n3          3    Jorg -0.45922  1.38967  0.32138  -2.25580  2.04402  1.42847   \n4          4     Bob  0.89319 -1.01451 -2.80611  -1.90744  1.69157 -1.40292   \n\n             x7       x8       x9       x10      x11   x12      x13  \n0  Slängpolskor  1.70754  0.44414  -9.29924 -1.26958  True -3.56049  \n1         Hambo -0.42399 -0.54993  -8.93621  1.11524  True -8.11321  \n2      Schottis  1.23020  0.10881 -10.99470 -2.01507  True  6.13878  \n3  Slängpolskor -1.21911 -0.84549  -8.80555 -0.92500  True -2.13542  \n4      Schottis -1.93778  1.55950  -8.23288 -2.02836  True  3.06292  ",
      "text/html": "<div>\n<style scoped>\n    .dataframe tbody tr th:only-of-type {\n        vertical-align: middle;\n    }\n\n    .dataframe tbody tr th {\n        vertical-align: top;\n    }\n\n    .dataframe thead th {\n        text-align: right;\n    }\n</style>\n<table border=\"1\" class=\"dataframe\">\n  <thead>\n    <tr style=\"text-align: right;\">\n      <th></th>\n      <th>Unnamed: 0</th>\n      <th>y</th>\n      <th>x1</th>\n      <th>x2</th>\n      <th>x3</th>\n      <th>x4</th>\n      <th>x5</th>\n      <th>x6</th>\n      <th>x7</th>\n      <th>x8</th>\n      <th>x9</th>\n      <th>x10</th>\n      <th>x11</th>\n      <th>x12</th>\n      <th>x13</th>\n    </tr>\n  </thead>\n  <tbody>\n    <tr>\n      <th>0</th>\n      <td>0</td>\n      <td>Jorg</td>\n      <td>-0.21695</td>\n      <td>0.88123</td>\n      <td>-4.95144</td>\n      <td>-2.37890</td>\n      <td>2.18407</td>\n      <td>0.84635</td>\n      <td>Slängpolskor</td>\n      <td>1.70754</td>\n      <td>0.44414</td>\n      <td>-9.29924</td>\n      <td>-1.26958</td>\n      <td>True</td>\n      <td>-3.56049</td>\n    </tr>\n    <tr>\n      <th>1</th>\n      <td>1</td>\n      <td>Atsuto</td>\n      <td>-1.74145</td>\n      <td>0.02792</td>\n      <td>1.18805</td>\n      <td>-2.13850</td>\n      <td>1.94884</td>\n      <td>0.18559</td>\n      <td>Hambo</td>\n      <td>-0.42399</td>\n      <td>-0.54993</td>\n      <td>-8.93621</td>\n      <td>1.11524</td>\n      <td>True</td>\n      <td>-8.11321</td>\n    </tr>\n    <tr>\n      <th>2</th>\n      <td>2</td>\n      <td>Bob</td>\n      <td>0.82878</td>\n      <td>-0.29430</td>\n      <td>3.98977</td>\n      <td>-2.15388</td>\n      <td>2.09048</td>\n      <td>-0.26580</td>\n      <td>Schottis</td>\n      <td>1.23020</td>\n      <td>0.10881</td>\n      <td>-10.99470</td>\n      <td>-2.01507</td>\n      <td>True</td>\n      <td>6.13878</td>\n    </tr>\n    <tr>\n      <th>3</th>\n      <td>3</td>\n      <td>Jorg</td>\n      <td>-0.45922</td>\n      <td>1.38967</td>\n      <td>0.32138</td>\n      <td>-2.25580</td>\n      <td>2.04402</td>\n      <td>1.42847</td>\n      <td>Slängpolskor</td>\n      <td>-1.21911</td>\n      <td>-0.84549</td>\n      <td>-8.80555</td>\n      <td>-0.92500</td>\n      <td>True</td>\n      <td>-2.13542</td>\n    </tr>\n    <tr>\n      <th>4</th>\n      <td>4</td>\n      <td>Bob</td>\n      <td>0.89319</td>\n      <td>-1.01451</td>\n      <td>-2.80611</td>\n      <td>-1.90744</td>\n      <td>1.69157</td>\n      <td>-1.40292</td>\n      <td>Schottis</td>\n      <td>-1.93778</td>\n      <td>1.55950</td>\n      <td>-8.23288</td>\n      <td>-2.02836</td>\n      <td>True</td>\n      <td>3.06292</td>\n    </tr>\n  </tbody>\n</table>\n</div>"
     },
     "execution_count": 35,
     "metadata": {},
     "output_type": "execute_result"
    }
   ],
   "source": [
    "train = pd.read_csv('TrainOnMe-4.csv')\n",
    "train.head()"
   ],
   "metadata": {
    "collapsed": false
   }
  },
  {
   "cell_type": "code",
   "execution_count": 36,
   "outputs": [],
   "source": [
    "train = train.drop(train.columns[0], axis=1) # Drop first \"Unnamed\" column\n",
    "train = train.dropna(how='any') # Dropping NaN values"
   ],
   "metadata": {
    "collapsed": false
   }
  },
  {
   "cell_type": "code",
   "execution_count": 37,
   "outputs": [],
   "source": [
    "# Removing '?' from feature 'x4' and changing datatype to float64\n",
    "train = train[train.x4 != '?']\n",
    "train['x4'] = train['x4'].astype(float)\n"
   ],
   "metadata": {
    "collapsed": false
   }
  },
  {
   "cell_type": "code",
   "execution_count": 38,
   "outputs": [
    {
     "name": "stdout",
     "output_type": "stream",
     "text": [
      "Feature DataTypes \n",
      "y       object\n",
      "x1     float64\n",
      "x2     float64\n",
      "x3     float64\n",
      "x4     float64\n",
      "x5     float64\n",
      "x6     float64\n",
      "x7      object\n",
      "x8     float64\n",
      "x9     float64\n",
      "x10    float64\n",
      "x11    float64\n",
      "x12     object\n",
      "x13    float64\n",
      "dtype: object\n"
     ]
    }
   ],
   "source": [
    "print(\"Feature DataTypes \\n\" +str(train.dtypes))\n"
   ],
   "metadata": {
    "collapsed": false
   }
  },
  {
   "cell_type": "code",
   "execution_count": 39,
   "outputs": [],
   "source": [
    "# Removing noise values from feature 'x7' and changing and encoding\n",
    "train.loc[train['x7'] == 'chottis', 'x7'] = np.nan\n",
    "train.loc[train['x7'] == 'olka', 'x7'] = np.nan\n",
    "train = train.dropna(how='any')\n",
    "enc_OE = OrdinalEncoder()\n",
    "enc_x7 = enc_OE.fit(train[['x7']])\n",
    "train[['x7']] = enc_x7.transform(train[['x7']])"
   ],
   "metadata": {
    "collapsed": false
   }
  },
  {
   "cell_type": "code",
   "execution_count": 40,
   "outputs": [],
   "source": [
    "# Removing noise values from feature 'x7' and changing and encoding\n",
    "train.loc[train['x12'] == 'YEP True', 'x12'] = 'True'\n",
    "train.loc[train['x12'] == 'Nope False', 'x12'] = 'False'\n",
    "# Encode True/False to 1/0\n",
    "enc_OE = OrdinalEncoder()\n",
    "enc_x12 = enc_OE.fit(train[['x12']])\n",
    "train[['x12']] = enc_x12.transform(train[['x12']])"
   ],
   "metadata": {
    "collapsed": false
   }
  },
  {
   "cell_type": "code",
   "execution_count": 41,
   "outputs": [],
   "source": [
    "# Removing Outliers and Standardizing Numerical Features\n",
    "cols = ['x1', 'x2', 'x3', 'x4', 'x5', 'x6', 'x8', 'x9', 'x10', 'x11', 'x13']\n",
    "\n",
    "Q1 = train[cols].quantile(0.25)\n",
    "Q3 = train[cols].quantile(0.85)\n",
    "IQR = Q3 - Q1\n",
    "\n",
    "train = train[~((train[cols] < (Q1 - 1.5 * IQR)) |(train[cols] > (Q3 + 1.5 * IQR))).any(axis=1)]\n",
    "train[cols] = StandardScaler().fit_transform(train[cols])"
   ],
   "metadata": {
    "collapsed": false
   }
  },
  {
   "cell_type": "code",
   "execution_count": 42,
   "outputs": [
    {
     "name": "stdout",
     "output_type": "stream",
     "text": [
      "Number of datapoints for each of the columns: \n",
      "y      986\n",
      "x1     986\n",
      "x2     986\n",
      "x3     986\n",
      "x4     986\n",
      "x5     986\n",
      "x6     986\n",
      "x7     986\n",
      "x8     986\n",
      "x9     986\n",
      "x10    986\n",
      "x11    986\n",
      "x12    986\n",
      "x13    986\n",
      "dtype: int64\n"
     ]
    }
   ],
   "source": [
    "print(\"Number of datapoints for each of the columns: \\n\" +str(train.count()))"
   ],
   "metadata": {
    "collapsed": false
   }
  },
  {
   "cell_type": "code",
   "execution_count": 43,
   "outputs": [
    {
     "data": {
      "text/plain": "Jorg      522\nBob       280\nAtsuto    184\nName: y, dtype: int64"
     },
     "execution_count": 43,
     "metadata": {},
     "output_type": "execute_result"
    }
   ],
   "source": [
    "# Exploring Labels\n",
    "train['y'].value_counts()"
   ],
   "metadata": {
    "collapsed": false
   }
  },
  {
   "cell_type": "code",
   "execution_count": 44,
   "outputs": [
    {
     "name": "stderr",
     "output_type": "stream",
     "text": [
      "/Users/hamzaali/opt/anaconda3/lib/python3.9/site-packages/imblearn/utils/_validation.py:299: UserWarning: After over-sampling, the number of samples (528) in class Jorg will be larger than the number of samples in the majority class (class #Jorg -> 522)\n",
      "  warnings.warn(\n"
     ]
    },
    {
     "data": {
      "text/plain": "         x1        x2        x3        x4        x5        x6   x7        x8  \\\n0 -0.215183  1.200620 -1.167796  0.043471  0.167056  0.989270  4.0  1.247556   \n1 -1.710909  0.038863  0.641976  0.508654 -0.397490  0.237782  0.0 -0.347596   \n2  0.810810 -0.399830  1.467855  0.478893 -0.057558 -0.275588  3.0  0.890334   \n3 -0.452880  1.892846  0.386503  0.281674 -0.169061  1.651320  4.0 -0.942631   \n4  0.874004 -1.380375 -0.535405  0.955763 -1.014933 -1.568844  3.0 -1.480455   \n\n         x9       x10       x11  x12       x13  \n0  0.316403 -0.273454 -0.464575  1.0 -0.635388  \n1 -0.402854 -0.041729  0.750433  1.0 -1.575368  \n2  0.073776 -1.355680 -0.844384  1.0  1.367177  \n3 -0.616705  0.041672 -0.289020  1.0 -0.341160  \n4  1.123419  0.407212 -0.851155  1.0  0.732118  ",
      "text/html": "<div>\n<style scoped>\n    .dataframe tbody tr th:only-of-type {\n        vertical-align: middle;\n    }\n\n    .dataframe tbody tr th {\n        vertical-align: top;\n    }\n\n    .dataframe thead th {\n        text-align: right;\n    }\n</style>\n<table border=\"1\" class=\"dataframe\">\n  <thead>\n    <tr style=\"text-align: right;\">\n      <th></th>\n      <th>x1</th>\n      <th>x2</th>\n      <th>x3</th>\n      <th>x4</th>\n      <th>x5</th>\n      <th>x6</th>\n      <th>x7</th>\n      <th>x8</th>\n      <th>x9</th>\n      <th>x10</th>\n      <th>x11</th>\n      <th>x12</th>\n      <th>x13</th>\n    </tr>\n  </thead>\n  <tbody>\n    <tr>\n      <th>0</th>\n      <td>-0.215183</td>\n      <td>1.200620</td>\n      <td>-1.167796</td>\n      <td>0.043471</td>\n      <td>0.167056</td>\n      <td>0.989270</td>\n      <td>4.0</td>\n      <td>1.247556</td>\n      <td>0.316403</td>\n      <td>-0.273454</td>\n      <td>-0.464575</td>\n      <td>1.0</td>\n      <td>-0.635388</td>\n    </tr>\n    <tr>\n      <th>1</th>\n      <td>-1.710909</td>\n      <td>0.038863</td>\n      <td>0.641976</td>\n      <td>0.508654</td>\n      <td>-0.397490</td>\n      <td>0.237782</td>\n      <td>0.0</td>\n      <td>-0.347596</td>\n      <td>-0.402854</td>\n      <td>-0.041729</td>\n      <td>0.750433</td>\n      <td>1.0</td>\n      <td>-1.575368</td>\n    </tr>\n    <tr>\n      <th>2</th>\n      <td>0.810810</td>\n      <td>-0.399830</td>\n      <td>1.467855</td>\n      <td>0.478893</td>\n      <td>-0.057558</td>\n      <td>-0.275588</td>\n      <td>3.0</td>\n      <td>0.890334</td>\n      <td>0.073776</td>\n      <td>-1.355680</td>\n      <td>-0.844384</td>\n      <td>1.0</td>\n      <td>1.367177</td>\n    </tr>\n    <tr>\n      <th>3</th>\n      <td>-0.452880</td>\n      <td>1.892846</td>\n      <td>0.386503</td>\n      <td>0.281674</td>\n      <td>-0.169061</td>\n      <td>1.651320</td>\n      <td>4.0</td>\n      <td>-0.942631</td>\n      <td>-0.616705</td>\n      <td>0.041672</td>\n      <td>-0.289020</td>\n      <td>1.0</td>\n      <td>-0.341160</td>\n    </tr>\n    <tr>\n      <th>4</th>\n      <td>0.874004</td>\n      <td>-1.380375</td>\n      <td>-0.535405</td>\n      <td>0.955763</td>\n      <td>-1.014933</td>\n      <td>-1.568844</td>\n      <td>3.0</td>\n      <td>-1.480455</td>\n      <td>1.123419</td>\n      <td>0.407212</td>\n      <td>-0.851155</td>\n      <td>1.0</td>\n      <td>0.732118</td>\n    </tr>\n  </tbody>\n</table>\n</div>"
     },
     "execution_count": 44,
     "metadata": {},
     "output_type": "execute_result"
    }
   ],
   "source": [
    "# Using oversampling to add Bob and Atsuto Samples\n",
    "train, y = train[['x1','x2','x3','x4','x5','x6','x7','x8','x9','x10','x11','x12','x13']], train['y']\n",
    "oversample = SMOTE(sampling_strategy = {'Jorg' :528,  'Bob':300, 'Atsuto':200})\n",
    "train, y = oversample.fit_resample(train, y)\n",
    "train.head()"
   ],
   "metadata": {
    "collapsed": false
   }
  },
  {
   "cell_type": "code",
   "execution_count": 45,
   "outputs": [
    {
     "data": {
      "text/plain": "<AxesSubplot:>"
     },
     "execution_count": 45,
     "metadata": {},
     "output_type": "execute_result"
    },
    {
     "data": {
      "text/plain": "<Figure size 1080x720 with 2 Axes>",
      "image/png": "[encoded data removed]"
     },
     "metadata": {},
     "output_type": "display_data"
    }
   ],
   "source": [
    "correlation = train[['x1','x2','x3','x4','x5','x6','x7','x8','x9','x10','x11','x12','x13']].corr()\n",
    "plt.figure(figsize=(15,10))\n",
    "sb.heatmap(correlation)"
   ],
   "metadata": {
    "collapsed": false
   }
  },
  {
   "cell_type": "code",
   "execution_count": 46,
   "outputs": [],
   "source": [
    "# Dropping x1 and x2 since they have high correaltion with x13 and x6 respectively\n",
    "train.drop('x1', axis = 1, inplace=True)\n",
    "train.drop('x2', axis = 1, inplace=True)\n"
   ],
   "metadata": {
    "collapsed": false
   }
  },
  {
   "cell_type": "code",
   "execution_count": 47,
   "outputs": [
    {
     "data": {
      "text/plain": "                x3           x4           x5           x6           x7  \\\ncount  1028.000000  1028.000000  1028.000000  1028.000000  1028.000000   \nmean      0.007530    -0.004123     0.002973    -0.003180     2.010848   \nstd       0.993019     1.001016     1.000569     0.995523     1.570344   \nmin      -2.863339    -3.130550    -2.252169    -3.051258     0.000000   \n25%      -0.651285    -0.625195    -0.736973    -0.716932     1.000000   \n50%       0.020467     0.042726    -0.003882    -0.030538     2.000000   \n75%       0.688405     0.718765     0.687251     0.658316     4.000000   \nmax       3.153107     2.331245     2.976974     3.202768     4.000000   \n\n                x8           x9          x10          x11          x12  \\\ncount  1028.000000  1028.000000  1028.000000  1028.000000  1028.000000   \nmean     -0.004893    -0.001494     0.003961    -0.004668     0.767019   \nstd       0.993551     0.993726     0.991366     0.999863     0.420557   \nmin      -2.887177    -2.814589    -3.008425    -2.866615     0.000000   \n25%      -0.619877    -0.619379    -0.636239    -0.730227     1.000000   \n50%      -0.023793     0.033337     0.030984    -0.208487     1.000000   \n75%       0.632440     0.560153     0.662686     0.652662     1.000000   \nmax       2.998830     3.026182     3.109534     3.458368     1.000000   \n\n               x13  \ncount  1028.000000  \nmean     -0.003600  \nstd       0.994135  \nmin      -2.747263  \n25%      -0.661386  \n50%      -0.041721  \n75%       0.688670  \nmax       2.884499  ",
      "text/html": "<div>\n<style scoped>\n    .dataframe tbody tr th:only-of-type {\n        vertical-align: middle;\n    }\n\n    .dataframe tbody tr th {\n        vertical-align: top;\n    }\n\n    .dataframe thead th {\n        text-align: right;\n    }\n</style>\n<table border=\"1\" class=\"dataframe\">\n  <thead>\n    <tr style=\"text-align: right;\">\n      <th></th>\n      <th>x3</th>\n      <th>x4</th>\n      <th>x5</th>\n      <th>x6</th>\n      <th>x7</th>\n      <th>x8</th>\n      <th>x9</th>\n      <th>x10</th>\n      <th>x11</th>\n      <th>x12</th>\n      <th>x13</th>\n    </tr>\n  </thead>\n  <tbody>\n    <tr>\n      <th>count</th>\n      <td>1028.000000</td>\n      <td>1028.000000</td>\n      <td>1028.000000</td>\n      <td>1028.000000</td>\n      <td>1028.000000</td>\n      <td>1028.000000</td>\n      <td>1028.000000</td>\n      <td>1028.000000</td>\n      <td>1028.000000</td>\n      <td>1028.000000</td>\n      <td>1028.000000</td>\n    </tr>\n    <tr>\n      <th>mean</th>\n      <td>0.007530</td>\n      <td>-0.004123</td>\n      <td>0.002973</td>\n      <td>-0.003180</td>\n      <td>2.010848</td>\n      <td>-0.004893</td>\n      <td>-0.001494</td>\n      <td>0.003961</td>\n      <td>-0.004668</td>\n      <td>0.767019</td>\n      <td>-0.003600</td>\n    </tr>\n    <tr>\n      <th>std</th>\n      <td>0.993019</td>\n      <td>1.001016</td>\n      <td>1.000569</td>\n      <td>0.995523</td>\n      <td>1.570344</td>\n      <td>0.993551</td>\n      <td>0.993726</td>\n      <td>0.991366</td>\n      <td>0.999863</td>\n      <td>0.420557</td>\n      <td>0.994135</td>\n    </tr>\n    <tr>\n      <th>min</th>\n      <td>-2.863339</td>\n      <td>-3.130550</td>\n      <td>-2.252169</td>\n      <td>-3.051258</td>\n      <td>0.000000</td>\n      <td>-2.887177</td>\n      <td>-2.814589</td>\n      <td>-3.008425</td>\n      <td>-2.866615</td>\n      <td>0.000000</td>\n      <td>-2.747263</td>\n    </tr>\n    <tr>\n      <th>25%</th>\n      <td>-0.651285</td>\n      <td>-0.625195</td>\n      <td>-0.736973</td>\n      <td>-0.716932</td>\n      <td>1.000000</td>\n      <td>-0.619877</td>\n      <td>-0.619379</td>\n      <td>-0.636239</td>\n      <td>-0.730227</td>\n      <td>1.000000</td>\n      <td>-0.661386</td>\n    </tr>\n    <tr>\n      <th>50%</th>\n      <td>0.020467</td>\n      <td>0.042726</td>\n      <td>-0.003882</td>\n      <td>-0.030538</td>\n      <td>2.000000</td>\n      <td>-0.023793</td>\n      <td>0.033337</td>\n      <td>0.030984</td>\n      <td>-0.208487</td>\n      <td>1.000000</td>\n      <td>-0.041721</td>\n    </tr>\n    <tr>\n      <th>75%</th>\n      <td>0.688405</td>\n      <td>0.718765</td>\n      <td>0.687251</td>\n      <td>0.658316</td>\n      <td>4.000000</td>\n      <td>0.632440</td>\n      <td>0.560153</td>\n      <td>0.662686</td>\n      <td>0.652662</td>\n      <td>1.000000</td>\n      <td>0.688670</td>\n    </tr>\n    <tr>\n      <th>max</th>\n      <td>3.153107</td>\n      <td>2.331245</td>\n      <td>2.976974</td>\n      <td>3.202768</td>\n      <td>4.000000</td>\n      <td>2.998830</td>\n      <td>3.026182</td>\n      <td>3.109534</td>\n      <td>3.458368</td>\n      <td>1.000000</td>\n      <td>2.884499</td>\n    </tr>\n  </tbody>\n</table>\n</div>"
     },
     "execution_count": 47,
     "metadata": {},
     "output_type": "execute_result"
    }
   ],
   "source": [
    "train.describe()"
   ],
   "metadata": {
    "collapsed": false
   }
  },
  {
   "cell_type": "code",
   "execution_count": 48,
   "outputs": [
    {
     "data": {
      "text/plain": "Jorg      528\nBob       300\nAtsuto    200\nName: y, dtype: int64"
     },
     "execution_count": 48,
     "metadata": {},
     "output_type": "execute_result"
    }
   ],
   "source": [
    "y.value_counts()"
   ],
   "metadata": {
    "collapsed": false
   }
  },
  {
   "cell_type": "markdown",
   "source": [
    "# Modelling and Testing\n"
   ],
   "metadata": {
    "collapsed": false
   }
  },
  {
   "cell_type": "code",
   "execution_count": 49,
   "outputs": [
    {
     "name": "stdout",
     "output_type": "stream",
     "text": [
      "0.8054474708171206\n",
      "0.77431906614786\n",
      "0.7470817120622568\n",
      "0.8093385214007782\n",
      "0.754863813229572\n",
      "0.7782101167315175\n",
      "0.7626459143968871\n",
      "0.7587548638132295\n",
      "0.7392996108949417\n",
      "0.7509727626459144\n",
      "0.7821011673151751\n",
      "0.7782101167315175\n",
      "0.7821011673151751\n",
      "0.7392996108949417\n",
      "0.7315175097276264\n",
      "0.7392996108949417\n",
      "0.7120622568093385\n",
      "0.7276264591439688\n",
      "0.7626459143968871\n"
     ]
    }
   ],
   "source": [
    "for i in range(1,20):\n",
    "    X_train, X_test, y_train, y_test = train_test_split(train, y, test_size=0.25,\n",
    "                                                        random_state=i)\n",
    "    classifier = RandomForestClassifier(n_estimators=190, criterion='entropy',\n",
    "                                        random_state=100)\n",
    "    classifier.fit(X_train, y_train)\n",
    "    y_pred = classifier.predict(X_test)  # Predicting the Test set results\n",
    "#     print(accuracy_score(y_test, y_pred))"
   ],
   "metadata": {
    "collapsed": false
   }
  },
  {
   "cell_type": "code",
   "execution_count": null,
   "outputs": [],
   "source": [
    "# # Finding Best Parameters for Random Forrest Classifier\n",
    "# acc = np.empty((0, 3), int)\n",
    "# for i in range(10,22):\n",
    "#     for j in range (190,210):\n",
    "#         classifier = RandomForestClassifier(n_estimators=i*10, criterion='entropy',\n",
    "#                                             random_state=j)\n",
    "#         classifier.fit(X_train, y_train)\n",
    "#         y_pred = classifier.predict(X_test)  # Predicting the Test set results\n",
    "#         acc = np.append(acc,[[accuracy_score(y_test, y_pred), i,j]], axis = 0)\n",
    "# acc"
   ],
   "metadata": {
    "collapsed": false
   }
  },
  {
   "cell_type": "code",
   "execution_count": 50,
   "outputs": [
    {
     "name": "stdout",
     "output_type": "stream",
     "text": [
      "0.8093385214007782\n"
     ]
    }
   ],
   "source": [
    "X_train, X_test, y_train, y_test = train_test_split(train, y, test_size=0.25,\n",
    "                                                    random_state=4)\n",
    "classifier = RandomForestClassifier(n_estimators=199, criterion='entropy',\n",
    "                                    random_state=200)\n",
    "classifier.fit(X_train, y_train)\n",
    "y_pred = classifier.predict(X_test)  # Predicting the Test set results\n",
    "print(accuracy_score(y_test, y_pred))"
   ],
   "metadata": {
    "collapsed": false
   }
  },
  {
   "cell_type": "markdown",
   "source": [
    "# Importing and Preprocessing on Test Data\n"
   ],
   "metadata": {
    "collapsed": false
   }
  },
  {
   "cell_type": "code",
   "execution_count": 51,
   "outputs": [],
   "source": [
    "test = pd.read_csv('EvaluateOnMe-4.csv',sep=',')"
   ],
   "metadata": {
    "collapsed": false
   }
  },
  {
   "cell_type": "code",
   "execution_count": 52,
   "outputs": [],
   "source": [
    "test = test.drop(test.columns[0], axis=1)  # Drop first \"Unnamed\" column\n",
    "test = test.dropna(how='any')  # Dropping NaN values"
   ],
   "metadata": {
    "collapsed": false
   }
  },
  {
   "cell_type": "code",
   "execution_count": 53,
   "outputs": [
    {
     "name": "stdout",
     "output_type": "stream",
     "text": [
      "The dataset contains columns of the following data types: \n",
      "x1     float64\n",
      "x2     float64\n",
      "x3     float64\n",
      "x4     float64\n",
      "x5     float64\n",
      "x6     float64\n",
      "x7      object\n",
      "x8     float64\n",
      "x9     float64\n",
      "x10    float64\n",
      "x11    float64\n",
      "x12       bool\n",
      "x13    float64\n",
      "dtype: object\n"
     ]
    }
   ],
   "source": [
    "print(\"The dataset contains columns of the following data types: \\n\" +str(test.dtypes))"
   ],
   "metadata": {
    "collapsed": false
   }
  },
  {
   "cell_type": "code",
   "execution_count": 54,
   "outputs": [],
   "source": [
    "# Encode Names\n",
    "enc_OE = OrdinalEncoder()\n",
    "enc_x7 = enc_OE.fit(test[['x7']])\n",
    "test[['x7']] = enc_x7.transform(test[['x7']])"
   ],
   "metadata": {
    "collapsed": false
   }
  },
  {
   "cell_type": "code",
   "execution_count": 55,
   "outputs": [],
   "source": [
    "# Encode True/False to 1/0\n",
    "enc_OE = OrdinalEncoder()\n",
    "enc_x12 = enc_OE.fit(test[['x12']])\n",
    "test[['x12']] = enc_x12.transform(test[['x12']])"
   ],
   "metadata": {
    "collapsed": false
   }
  },
  {
   "cell_type": "code",
   "execution_count": 56,
   "outputs": [],
   "source": [
    "cols = ['x1', 'x2', 'x3', 'x4', 'x5', 'x6', 'x8', 'x9', 'x10', 'x11', 'x13']\n",
    "test[cols] = StandardScaler().fit_transform(test[cols])"
   ],
   "metadata": {
    "collapsed": false
   }
  },
  {
   "cell_type": "code",
   "execution_count": 57,
   "outputs": [],
   "source": [
    "test.drop('x1', axis=1, inplace=True)\n",
    "test.drop('x2', axis=1, inplace=True)"
   ],
   "metadata": {
    "collapsed": false
   }
  },
  {
   "cell_type": "markdown",
   "source": [
    "## Predicting Output\n"
   ],
   "metadata": {
    "collapsed": false
   }
  },
  {
   "cell_type": "code",
   "execution_count": 58,
   "outputs": [
    {
     "name": "stderr",
     "output_type": "stream",
     "text": [
      "/Users/hamzaali/opt/anaconda3/lib/python3.9/site-packages/sklearn/base.py:450: UserWarning: X does not have valid feature names, but RandomForestClassifier was fitted with feature names\n",
      "  warnings.warn(\n"
     ]
    }
   ],
   "source": [
    "X_test_eval = test.values\n",
    "y_pred_eval = classifier.predict(X_test_eval) # Predicting the Test set results\n",
    "np.savetxt(r'y_predictions.txt', y_pred_eval, fmt='%s')"
   ],
   "metadata": {
    "collapsed": false
   }
  },
  {
   "cell_type": "code",
   "execution_count": 66,
   "outputs": [
    {
     "name": "stdout",
     "output_type": "stream",
     "text": [
      "7516\n"
     ]
    }
   ],
   "source": [
    "f = open(\"test.txt\", \"r\")\n",
    "x = f.readlines()\n",
    "\n",
    "f2 = f = open(\"annika.txt\", \"r\")\n",
    "y = f2.readlines()\n",
    "\n",
    "matches = 0\n",
    "\n",
    "for index in range(len(x)):\n",
    "    if x[index] == y[index]:\n",
    "        matches += 1\n",
    "\n",
    "print(matches)\n",
    "\n"
   ],
   "metadata": {
    "collapsed": false
   }
  },
  {
   "cell_type": "code",
   "execution_count": null,
   "outputs": [],
   "source": [],
   "metadata": {
    "collapsed": false
   }
  }
 ],
 "metadata": {
  "kernelspec": {
   "display_name": "Python 3",
   "language": "python",
   "name": "python3"
  },
  "language_info": {
   "codemirror_mode": {
    "name": "ipython",
    "version": 2
   },
   "file_extension": ".py",
   "mimetype": "text/x-python",
   "name": "python",
   "nbconvert_exporter": "python",
   "pygments_lexer": "ipython2",
   "version": "2.7.6"
  }
 },
 "nbformat": 4,
 "nbformat_minor": 0
}
